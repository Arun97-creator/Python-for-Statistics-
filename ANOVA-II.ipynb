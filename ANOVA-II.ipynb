{
 "cells": [
  {
   "cell_type": "code",
   "execution_count": 7,
   "metadata": {},
   "outputs": [
    {
     "name": "stdout",
     "output_type": "stream",
     "text": [
      "Requirement already satisfied: statsmodels in c:\\users\\abc\\anaconda3\\lib\\site-packages (0.10.1)\n",
      "Requirement already satisfied: numpy>=1.11 in c:\\users\\abc\\anaconda3\\lib\\site-packages (from statsmodels) (1.16.5)\n",
      "Requirement already satisfied: scipy>=0.18 in c:\\users\\abc\\anaconda3\\lib\\site-packages (from statsmodels) (1.3.1)\n",
      "Requirement already satisfied: pandas>=0.19 in c:\\users\\abc\\anaconda3\\lib\\site-packages (from statsmodels) (0.25.1)\n",
      "Requirement already satisfied: patsy>=0.4.0 in c:\\users\\abc\\anaconda3\\lib\\site-packages (from statsmodels) (0.5.1)\n",
      "Requirement already satisfied: python-dateutil>=2.6.1 in c:\\users\\abc\\anaconda3\\lib\\site-packages (from pandas>=0.19->statsmodels) (2.8.0)\n",
      "Requirement already satisfied: pytz>=2017.2 in c:\\users\\abc\\anaconda3\\lib\\site-packages (from pandas>=0.19->statsmodels) (2019.3)\n",
      "Requirement already satisfied: six in c:\\users\\abc\\anaconda3\\lib\\site-packages (from patsy>=0.4.0->statsmodels) (1.12.0)\n"
     ]
    }
   ],
   "source": [
    "import pandas as pd\n",
    "!pip install statsmodels\n",
    "import statsmodels.api as sm\n",
    "from statsmodels.formula.api import ols"
   ]
  },
  {
   "cell_type": "code",
   "execution_count": 11,
   "metadata": {},
   "outputs": [
    {
     "data": {
      "text/html": [
       "<div>\n",
       "<style scoped>\n",
       "    .dataframe tbody tr th:only-of-type {\n",
       "        vertical-align: middle;\n",
       "    }\n",
       "\n",
       "    .dataframe tbody tr th {\n",
       "        vertical-align: top;\n",
       "    }\n",
       "\n",
       "    .dataframe thead th {\n",
       "        text-align: right;\n",
       "    }\n",
       "</style>\n",
       "<table border=\"1\" class=\"dataframe\">\n",
       "  <thead>\n",
       "    <tr style=\"text-align: right;\">\n",
       "      <th></th>\n",
       "      <th>Value</th>\n",
       "      <th>prep_pro</th>\n",
       "      <th>college</th>\n",
       "    </tr>\n",
       "  </thead>\n",
       "  <tbody>\n",
       "    <tr>\n",
       "      <td>0</td>\n",
       "      <td>500</td>\n",
       "      <td>three_hr</td>\n",
       "      <td>Business</td>\n",
       "    </tr>\n",
       "    <tr>\n",
       "      <td>1</td>\n",
       "      <td>580</td>\n",
       "      <td>three_hr</td>\n",
       "      <td>Business</td>\n",
       "    </tr>\n",
       "    <tr>\n",
       "      <td>2</td>\n",
       "      <td>540</td>\n",
       "      <td>three_hr</td>\n",
       "      <td>Engineering</td>\n",
       "    </tr>\n",
       "    <tr>\n",
       "      <td>3</td>\n",
       "      <td>460</td>\n",
       "      <td>three_hr</td>\n",
       "      <td>Engineering</td>\n",
       "    </tr>\n",
       "    <tr>\n",
       "      <td>4</td>\n",
       "      <td>480</td>\n",
       "      <td>three_hr</td>\n",
       "      <td>ArtsandScience</td>\n",
       "    </tr>\n",
       "  </tbody>\n",
       "</table>\n",
       "</div>"
      ],
      "text/plain": [
       "   Value  prep_pro         college\n",
       "0    500  three_hr        Business\n",
       "1    580  three_hr        Business\n",
       "2    540  three_hr     Engineering\n",
       "3    460  three_hr     Engineering\n",
       "4    480  three_hr  ArtsandScience"
      ]
     },
     "execution_count": 11,
     "metadata": {},
     "output_type": "execute_result"
    }
   ],
   "source": [
    "from statsmodels.formula.api import ols\n",
    "df = pd.read_csv(\"Desktop/Book1.csv\")\n",
    "df.head()"
   ]
  },
  {
   "cell_type": "code",
   "execution_count": 15,
   "metadata": {},
   "outputs": [],
   "source": [
    "import scipy\n",
    "#Formula - indivually college and prep_prog and then together\n",
    "formula = 'Value ~C(college)+C(prep_pro)+C(college):C(prep_pro)'\n",
    "model = ols(formula,df).fit()\n",
    "aov_table = sm.stats.anova_lm(model,typ=2)"
   ]
  },
  {
   "cell_type": "code",
   "execution_count": 16,
   "metadata": {},
   "outputs": [
    {
     "name": "stdout",
     "output_type": "stream",
     "text": [
      "                         sum_sq   df          F    PR(>F)\n",
      "C(college)              45300.0  2.0  10.269521  0.004757\n",
      "C(prep_pro)              6100.0  2.0   1.382872  0.299436\n",
      "C(college):C(prep_pro)  11200.0  4.0   1.269521  0.350328\n",
      "Residual                19850.0  9.0        NaN       NaN\n"
     ]
    }
   ],
   "source": [
    "print(aov_table)"
   ]
  },
  {
   "cell_type": "code",
   "execution_count": null,
   "metadata": {},
   "outputs": [],
   "source": [
    "# H0: No relation between college/ prep prog/ on together on marks\n",
    "# Significant effect of  college on marks\n",
    "# no Significant effect of prep prog on marks\n",
    "# no Significant effect of prep prog / college on marks i.e. no interaction"
   ]
  },
  {
   "cell_type": "code",
   "execution_count": null,
   "metadata": {},
   "outputs": [],
   "source": []
  }
 ],
 "metadata": {
  "kernelspec": {
   "display_name": "Python 3",
   "language": "python",
   "name": "python3"
  },
  "language_info": {
   "codemirror_mode": {
    "name": "ipython",
    "version": 3
   },
   "file_extension": ".py",
   "mimetype": "text/x-python",
   "name": "python",
   "nbconvert_exporter": "python",
   "pygments_lexer": "ipython3",
   "version": "3.7.4"
  }
 },
 "nbformat": 4,
 "nbformat_minor": 2
}
